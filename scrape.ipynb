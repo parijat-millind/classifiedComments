{
 "cells": [
  {
   "cell_type": "code",
   "execution_count": 1,
   "metadata": {},
   "outputs": [],
   "source": [
    "import pandas as pd\n",
    "from youtube_comment_downloader import *\n",
    "downloader = YoutubeCommentDownloader()\n",
    "final = []"
   ]
  },
  {
   "cell_type": "code",
   "execution_count": 5,
   "metadata": {},
   "outputs": [
    {
     "data": {
      "text/plain": [
       "0         Modi should not be the pm again, indian citize...\n",
       "1         This guy is playing God and considers citizens...\n",
       "2              Best actor of india\\n     âTHE DICTATORâ\n",
       "3                  Indian media has a nick name godi media.\n",
       "4         German Dictator said he was sent by God! Itali...\n",
       "                                ...                        \n",
       "214203    ÙØ¹Ø¹Ø¹ Ø´ÙÙÙ Ù\n",
       "ØªØ­Ù\n",
       "ÙÙÙ ÙØ§ ÙØ­Ù\n",
       "Ù...\n",
       "214204                                    Donât say bi###\n",
       "214205    BLINKS! PLEASE HELP US STRE@M FLOWER BY KIM JI...\n",
       "214206    Very poor ððððððððð...\n",
       "214207                   ÐÐ° ÑÐµÐ±Ñ Ð±ÐµÑÐ¿Ð¾ÐºÐ¾Ð¹ÑÑ\n",
       "Name: 0, Length: 214208, dtype: object"
      ]
     },
     "execution_count": 5,
     "metadata": {},
     "output_type": "execute_result"
    }
   ],
   "source": [
    "df = pd.read_csv('comment.csv',encoding = 'ISO-8859-1')\n",
    "\n"
   ]
  },
  {
   "cell_type": "code",
   "execution_count": null,
   "metadata": {},
   "outputs": [],
   "source": [
    "link = [\"https://www.youtube.com/watch?v=kffacxfA7G4\",\"https://www.youtube.com/watch?v=JGwWNGJdvx8\",\"https://www.youtube.com/watch?v=2Vv-BfVoq4g\",\n",
    "        \"https://www.youtube.com/watch?v=RgKAFK5djSk\",\"https://www.youtube.com/watch?v=60ItHLz5WEA\",\"https://www.youtube.com/watch?v=kJQP7kiw5Fk\",\n",
    "        \"https://www.youtube.com/watch?v=euCqAq6BRa4\",\"https://www.youtube.com/watch?v=op4B9sNGi0k\",\"https://www.youtube.com/watch?v=gCYcHz2k5x0\",\n",
    "        \"https://www.youtube.com/watch?v=7KPyunRIjr0\",\"https://www.youtube.com/watch?v=jLNrvmXboj8\",\"https://www.youtube.com/watch?v=PonUS87Yeqw\",\n",
    "        \"https://www.youtube.com/watch?v=9jChPqtT9Zs\",\"https://www.youtube.com/watch?v=8LVxb-VxozY\",\"https://www.youtube.com/watch?v=k8nLR0VQ0Hk\",\n",
    "        \"https://www.youtube.com/watch?v=Aixby-JpWOc\",\"https://www.youtube.com/watch?v=OeHV3HQIzq8\",\"https://www.youtube.com/watch?v=9KCtZ9r4OAw\",\n",
    "        \"https://www.youtube.com/watch?v=Tnfs0MZsBBE\",\"https://www.youtube.com/watch?v=2u80yFDtszE\",\"https://www.youtube.com/watch?v=jS2-TspZOgI\",\n",
    "        \"https://www.youtube.com/watch?v=gdZLi9oWNZg\",\"https://www.youtube.com/watch?v=7C2z4GqqS5E\",\"https://www.youtube.com/watch?v=3tmd-ClpJxA\",\n",
    "        \"https://www.youtube.com/watch?v=kTlv5_Bs8aw\",\"https://www.youtube.com/watch?v=WMweEpGlu_U\",\"https://www.youtube.com/watch?v=YLXfyHsfFz0\",\n",
    "        \"https://www.youtube.com/watch?v=9bZkp7q19f0\",\"https://www.youtube.com/watch?v=pBuZEGYXA6E\",\"https://www.youtube.com/watch?v=32si5cfrCNc\",\n",
    "        ]"
   ]
  },
  {
   "cell_type": "code",
   "execution_count": null,
   "metadata": {},
   "outputs": [],
   "source": [
    "for video in link:\n",
    "  comments = downloader.get_comments_from_url(video,sort_by=SORT_BY_POPULAR)\n",
    "  data=[]\n",
    "  for comment in comments:\n",
    "    data.append(comment['text'])\n",
    "  final += data"
   ]
  },
  {
   "cell_type": "code",
   "execution_count": null,
   "metadata": {},
   "outputs": [],
   "source": [
    "len(final)"
   ]
  },
  {
   "cell_type": "code",
   "execution_count": null,
   "metadata": {},
   "outputs": [],
   "source": [
    "df = pd.DataFrame(final)\n",
    "df.to_csv('comment.csv')"
   ]
  },
  {
   "cell_type": "code",
   "execution_count": 7,
   "metadata": {},
   "outputs": [
    {
     "name": "stdout",
     "output_type": "stream",
     "text": [
      "expected string or bytes-like object\n",
      "nan\n",
      "expected string or bytes-like object\n",
      "nan\n",
      "expected string or bytes-like object\n",
      "nan\n"
     ]
    }
   ],
   "source": [
    "import re\n",
    "def remove_punctuation(text):\n",
    "    text = text.replace(\"_\", '')\n",
    "    text = text.replace(\"?\", '')\n",
    "    text = text.replace(\";\", '')\n",
    "    text = text.replace(\":\", '')\n",
    "    text = text.replace(\"@\", '')\n",
    "    text = text.replace(\"#\", '')\n",
    "    text = text.replace('\"', '')\n",
    "    text = text.replace(\"&\", '')\n",
    "    text = text.replace(\"amp\", '')\n",
    "    return text\n",
    "    \n",
    "\n",
    "def remove_emoji(text):\n",
    "    emoji_pattern = re.compile(\"[\"\n",
    "                           u\"\\U0001F600-\\U0001F64F\"  # emoticons\n",
    "                           u\"\\U0001F300-\\U0001F5FF\"  # symbols & pictographs\n",
    "                           u\"\\U0001F680-\\U0001F6FF\"  # transport & map symbols\n",
    "                           u\"\\U0001F1E0-\\U0001F1FF\"  # flags \n",
    "                           u\"\\U00002702-\\U000027B0\"\n",
    "                           u\"\\U000024C2-\\U0001F251\"\n",
    "                           \"]+\", flags = re.UNICODE)\n",
    "    \n",
    "    return emoji_pattern.sub(r'', text)\n",
    "    \n",
    "    \n",
    "    \n",
    "def clean_text(text):\n",
    "    try:\n",
    "        text=remove_emoji(text)\n",
    "        \n",
    "        text = re.sub(r'\\b\\d+\\.\\d+\\b', '', text)\n",
    "    \n",
    "        text=str(text).lower()\n",
    "        \n",
    "        text=re.sub(r'\\[.*?\\]',' ',text)\n",
    "        \n",
    "        text=re.sub('rt','',text)\n",
    "        \n",
    "        text=re.sub(r'@[A-Za-z0-9]+','',text)\n",
    "        \n",
    "        text=re.sub(r'_[A-Za-z0-9]+','',text)\n",
    "        \n",
    "        text=re.sub(r'https?://\\S+|www\\.\\S+','',text)\n",
    "        \n",
    "        text=re.sub('<.*?>','',text)\n",
    "        \n",
    "        text=re.sub('\\n','',text)\n",
    "        \n",
    "        text=remove_punctuation(text)\n",
    "        \n",
    "        text=re.sub(r'[0-9]+','',text)\n",
    "        \n",
    "        text = re.sub(r',{2,}', '', text)\n",
    "        \n",
    "        text = re.sub(r'!{2,}', ',', text)\n",
    "        \n",
    "        text = re.sub(r'\\'{2,}', ',', text)\n",
    "        \n",
    "        text = re.sub(r'\\.{2,}', ',', text)\n",
    "        \n",
    "        text.strip()\n",
    "        \n",
    "        text = re.sub(r'[^\\w\\s]', '', text)\n",
    "        \n",
    "        return text\n",
    "    \n",
    "    except Exception as e:\n",
    "        print(e)\n",
    "        print(text)\n",
    "        \n",
    "x=df['0'].apply(clean_text)     \n",
    "\n",
    "# df['text']=df['text'].apply(clean_text)\n"
   ]
  },
  {
   "cell_type": "code",
   "execution_count": 8,
   "metadata": {},
   "outputs": [],
   "source": [
    "df = pd.DataFrame(x)\n",
    "df.to_csv('co.csv')"
   ]
  },
  {
   "cell_type": "code",
   "execution_count": 11,
   "metadata": {},
   "outputs": [
    {
     "ename": "RuntimeError",
     "evalue": "At least one of TensorFlow 2.0 or PyTorch should be installed. To install TensorFlow 2.0, read the instructions at https://www.tensorflow.org/install/ To install PyTorch, read the instructions at https://pytorch.org/.",
     "output_type": "error",
     "traceback": [
      "\u001b[1;31m---------------------------------------------------------------------------\u001b[0m",
      "\u001b[1;31mRuntimeError\u001b[0m                              Traceback (most recent call last)",
      "Cell \u001b[1;32mIn[11], line 4\u001b[0m\n\u001b[0;32m      1\u001b[0m \u001b[38;5;66;03m# Use a pipeline as a high-level helper\u001b[39;00m\n\u001b[0;32m      2\u001b[0m \u001b[38;5;28;01mfrom\u001b[39;00m \u001b[38;5;21;01mtransformers\u001b[39;00m \u001b[38;5;28;01mimport\u001b[39;00m pipeline\n\u001b[1;32m----> 4\u001b[0m pipe \u001b[38;5;241m=\u001b[39m \u001b[43mpipeline\u001b[49m\u001b[43m(\u001b[49m\u001b[38;5;124;43m\"\u001b[39;49m\u001b[38;5;124;43mtext-classification\u001b[39;49m\u001b[38;5;124;43m\"\u001b[39;49m\u001b[43m,\u001b[49m\u001b[43m \u001b[49m\u001b[43mmodel\u001b[49m\u001b[38;5;241;43m=\u001b[39;49m\u001b[38;5;124;43m\"\u001b[39;49m\u001b[38;5;124;43mfacebook/roberta-hate-speech-dynabench-r4-target\u001b[39;49m\u001b[38;5;124;43m\"\u001b[39;49m\u001b[43m)\u001b[49m\n\u001b[0;32m      5\u001b[0m pipe(\u001b[38;5;124m'\u001b[39m\u001b[38;5;124mÃ¢whatever it may be we are going to have the phenomenon called modi as the proud and lion pm representing  crores population he is born to rule and he is going to rule only modi no other than modiÃ°Ã¢Ã¯Ã°ÂªÃ°ÂªÃ°Ã°Â³Ã°Ã°Â³Ã°Ã°Â³\u001b[39m\u001b[38;5;124m'\u001b[39m)\n",
      "File \u001b[1;32mc:\\Users\\pawan\\OneDrive\\Desktop\\ytcomment\\.venv\\lib\\site-packages\\transformers\\pipelines\\__init__.py:906\u001b[0m, in \u001b[0;36mpipeline\u001b[1;34m(task, model, config, tokenizer, feature_extractor, image_processor, framework, revision, use_fast, token, device, device_map, torch_dtype, trust_remote_code, model_kwargs, pipeline_class, **kwargs)\u001b[0m\n\u001b[0;32m    904\u001b[0m \u001b[38;5;28;01mif\u001b[39;00m \u001b[38;5;28misinstance\u001b[39m(model, \u001b[38;5;28mstr\u001b[39m) \u001b[38;5;129;01mor\u001b[39;00m framework \u001b[38;5;129;01mis\u001b[39;00m \u001b[38;5;28;01mNone\u001b[39;00m:\n\u001b[0;32m    905\u001b[0m     model_classes \u001b[38;5;241m=\u001b[39m {\u001b[38;5;124m\"\u001b[39m\u001b[38;5;124mtf\u001b[39m\u001b[38;5;124m\"\u001b[39m: targeted_task[\u001b[38;5;124m\"\u001b[39m\u001b[38;5;124mtf\u001b[39m\u001b[38;5;124m\"\u001b[39m], \u001b[38;5;124m\"\u001b[39m\u001b[38;5;124mpt\u001b[39m\u001b[38;5;124m\"\u001b[39m: targeted_task[\u001b[38;5;124m\"\u001b[39m\u001b[38;5;124mpt\u001b[39m\u001b[38;5;124m\"\u001b[39m]}\n\u001b[1;32m--> 906\u001b[0m     framework, model \u001b[38;5;241m=\u001b[39m infer_framework_load_model(\n\u001b[0;32m    907\u001b[0m         model,\n\u001b[0;32m    908\u001b[0m         model_classes\u001b[38;5;241m=\u001b[39mmodel_classes,\n\u001b[0;32m    909\u001b[0m         config\u001b[38;5;241m=\u001b[39mconfig,\n\u001b[0;32m    910\u001b[0m         framework\u001b[38;5;241m=\u001b[39mframework,\n\u001b[0;32m    911\u001b[0m         task\u001b[38;5;241m=\u001b[39mtask,\n\u001b[0;32m    912\u001b[0m         \u001b[38;5;241m*\u001b[39m\u001b[38;5;241m*\u001b[39mhub_kwargs,\n\u001b[0;32m    913\u001b[0m         \u001b[38;5;241m*\u001b[39m\u001b[38;5;241m*\u001b[39mmodel_kwargs,\n\u001b[0;32m    914\u001b[0m     )\n\u001b[0;32m    916\u001b[0m model_config \u001b[38;5;241m=\u001b[39m model\u001b[38;5;241m.\u001b[39mconfig\n\u001b[0;32m    917\u001b[0m hub_kwargs[\u001b[38;5;124m\"\u001b[39m\u001b[38;5;124m_commit_hash\u001b[39m\u001b[38;5;124m\"\u001b[39m] \u001b[38;5;241m=\u001b[39m model\u001b[38;5;241m.\u001b[39mconfig\u001b[38;5;241m.\u001b[39m_commit_hash\n",
      "File \u001b[1;32mc:\\Users\\pawan\\OneDrive\\Desktop\\ytcomment\\.venv\\lib\\site-packages\\transformers\\pipelines\\base.py:234\u001b[0m, in \u001b[0;36minfer_framework_load_model\u001b[1;34m(model, config, model_classes, task, framework, **model_kwargs)\u001b[0m\n\u001b[0;32m    208\u001b[0m \u001b[38;5;250m\u001b[39m\u001b[38;5;124;03m\"\"\"\u001b[39;00m\n\u001b[0;32m    209\u001b[0m \u001b[38;5;124;03mSelect framework (TensorFlow or PyTorch) to use from the `model` passed. Returns a tuple (framework, model).\u001b[39;00m\n\u001b[0;32m    210\u001b[0m \n\u001b[1;32m   (...)\u001b[0m\n\u001b[0;32m    231\u001b[0m \u001b[38;5;124;03m    `Tuple`: A tuple framework, model.\u001b[39;00m\n\u001b[0;32m    232\u001b[0m \u001b[38;5;124;03m\"\"\"\u001b[39;00m\n\u001b[0;32m    233\u001b[0m \u001b[38;5;28;01mif\u001b[39;00m \u001b[38;5;129;01mnot\u001b[39;00m is_tf_available() \u001b[38;5;129;01mand\u001b[39;00m \u001b[38;5;129;01mnot\u001b[39;00m is_torch_available():\n\u001b[1;32m--> 234\u001b[0m     \u001b[38;5;28;01mraise\u001b[39;00m \u001b[38;5;167;01mRuntimeError\u001b[39;00m(\n\u001b[0;32m    235\u001b[0m         \u001b[38;5;124m\"\u001b[39m\u001b[38;5;124mAt least one of TensorFlow 2.0 or PyTorch should be installed. \u001b[39m\u001b[38;5;124m\"\u001b[39m\n\u001b[0;32m    236\u001b[0m         \u001b[38;5;124m\"\u001b[39m\u001b[38;5;124mTo install TensorFlow 2.0, read the instructions at https://www.tensorflow.org/install/ \u001b[39m\u001b[38;5;124m\"\u001b[39m\n\u001b[0;32m    237\u001b[0m         \u001b[38;5;124m\"\u001b[39m\u001b[38;5;124mTo install PyTorch, read the instructions at https://pytorch.org/.\u001b[39m\u001b[38;5;124m\"\u001b[39m\n\u001b[0;32m    238\u001b[0m     )\n\u001b[0;32m    239\u001b[0m \u001b[38;5;28;01mif\u001b[39;00m \u001b[38;5;28misinstance\u001b[39m(model, \u001b[38;5;28mstr\u001b[39m):\n\u001b[0;32m    240\u001b[0m     model_kwargs[\u001b[38;5;124m\"\u001b[39m\u001b[38;5;124m_from_pipeline\u001b[39m\u001b[38;5;124m\"\u001b[39m] \u001b[38;5;241m=\u001b[39m task\n",
      "\u001b[1;31mRuntimeError\u001b[0m: At least one of TensorFlow 2.0 or PyTorch should be installed. To install TensorFlow 2.0, read the instructions at https://www.tensorflow.org/install/ To install PyTorch, read the instructions at https://pytorch.org/."
     ]
    }
   ],
   "source": [
    "# Use a pipeline as a high-level helper\n",
    "import torch\n",
    "from transformers import pipeline\n",
    "\n",
    "pipe = pipeline(\"text-classification\", model=\"facebook/roberta-hate-speech-dynabench-r4-target\")\n",
    "pipe('Ã¢whatever it may be we are going to have the phenomenon called modi as the proud and lion pm representing  crores population he is born to rule and he is going to rule only modi no other than modiÃ°Ã¢Ã¯Ã°ÂªÃ°ÂªÃ°Ã°Â³Ã°Ã°Â³Ã°Ã°Â³')"
   ]
  },
  {
   "cell_type": "code",
   "execution_count": null,
   "metadata": {},
   "outputs": [],
   "source": []
  }
 ],
 "metadata": {
  "kernelspec": {
   "display_name": ".venv",
   "language": "python",
   "name": "python3"
  },
  "language_info": {
   "codemirror_mode": {
    "name": "ipython",
    "version": 3
   },
   "file_extension": ".py",
   "mimetype": "text/x-python",
   "name": "python",
   "nbconvert_exporter": "python",
   "pygments_lexer": "ipython3",
   "version": "3.10.11"
  }
 },
 "nbformat": 4,
 "nbformat_minor": 2
}
